{
 "cells": [
  {
   "cell_type": "code",
   "execution_count": 1,
   "id": "a0094f48-b173-42d9-9b05-7e0ef46a520a",
   "metadata": {},
   "outputs": [
    {
     "data": {
      "text/plain": [
       "4"
      ]
     },
     "execution_count": 1,
     "metadata": {},
     "output_type": "execute_result"
    }
   ],
   "source": [
    "2+2"
   ]
  },
  {
   "cell_type": "code",
   "execution_count": 4,
   "id": "fef2aa70-af29-473d-af4d-f844ed965ffc",
   "metadata": {},
   "outputs": [
    {
     "name": "stdout",
     "output_type": "stream",
     "text": [
      "i is even number 0\n",
      "i is even number 2\n",
      "i is even number 4\n",
      "i is even number 6\n",
      "i is even number 8\n",
      "i is even number 10\n"
     ]
    }
   ],
   "source": [
    "for i in range (0,12):\n",
    "    if i%2==0:\n",
    "        print(\"i is even number\",i)"
   ]
  },
  {
   "cell_type": "markdown",
   "id": "c055ca13-a68d-4b22-b74e-8421883f795b",
   "metadata": {},
   "source": [
    "for x in []:         # the iterable is empty - the iterate-variable `x` will not be defined\n",
    "    print(\"Hello?\")  # this code is never executed\n",
    "print(x)             # raises an error because `x` was never defined"
   ]
  },
  {
   "cell_type": "code",
   "execution_count": 5,
   "id": "1d39ea98-9f42-423b-9c36-06ae9f06ebe9",
   "metadata": {},
   "outputs": [
    {
     "name": "stdout",
     "output_type": "stream",
     "text": [
      "30000\n",
      "30001\n",
      "30002\n",
      "30003\n",
      "30004\n",
      "30005\n",
      "30006\n",
      "30007\n",
      "30008\n",
      "30009\n",
      "30010\n",
      "30011\n"
     ]
    }
   ],
   "source": [
    "i = 30000\n",
    "while i < 30012:\n",
    "  print(i)\n",
    "  i += 1"
   ]
  },
  {
   "cell_type": "code",
   "execution_count": 6,
   "id": "2d2720af-0a46-4086-9e40-bebfdc60a75c",
   "metadata": {},
   "outputs": [],
   "source": [
    "a=\"apple\"\n"
   ]
  },
  {
   "cell_type": "code",
   "execution_count": 7,
   "id": "fb73c0a9-d0d7-4de3-abe2-508c25703a46",
   "metadata": {},
   "outputs": [
    {
     "ename": "AttributeError",
     "evalue": "'str' object has no attribute 'Counter'",
     "output_type": "error",
     "traceback": [
      "\u001b[1;31m---------------------------------------------------------------------------\u001b[0m",
      "\u001b[1;31mAttributeError\u001b[0m                            Traceback (most recent call last)",
      "Cell \u001b[1;32mIn[7], line 1\u001b[0m\n\u001b[1;32m----> 1\u001b[0m help(\u001b[43ma\u001b[49m\u001b[38;5;241;43m.\u001b[39;49m\u001b[43mCounter\u001b[49m)\n",
      "\u001b[1;31mAttributeError\u001b[0m: 'str' object has no attribute 'Counter'"
     ]
    }
   ],
   "source": [
    "help(a.Counter)\n"
   ]
  },
  {
   "cell_type": "code",
   "execution_count": 8,
   "id": "adb8e56b-d52c-4b99-8400-38f6bf47d3ab",
   "metadata": {},
   "outputs": [],
   "source": [
    "c=(1,2,3,4)"
   ]
  },
  {
   "cell_type": "raw",
   "id": "58f6fe1b-f851-4c1c-8984-b79fb9ae6f65",
   "metadata": {},
   "source": [
    "help(c.Counter)"
   ]
  },
  {
   "cell_type": "code",
   "execution_count": 9,
   "id": "da2228ca-09b3-427f-8032-81688c3ed1c5",
   "metadata": {},
   "outputs": [
    {
     "ename": "AttributeError",
     "evalue": "'tuple' object has no attribute 'Counter'",
     "output_type": "error",
     "traceback": [
      "\u001b[1;31m---------------------------------------------------------------------------\u001b[0m",
      "\u001b[1;31mAttributeError\u001b[0m                            Traceback (most recent call last)",
      "Cell \u001b[1;32mIn[9], line 1\u001b[0m\n\u001b[1;32m----> 1\u001b[0m help(\u001b[43mc\u001b[49m\u001b[38;5;241;43m.\u001b[39;49m\u001b[43mCounter\u001b[49m)\n",
      "\u001b[1;31mAttributeError\u001b[0m: 'tuple' object has no attribute 'Counter'"
     ]
    }
   ],
   "source": [
    "help(c.Counter)"
   ]
  },
  {
   "cell_type": "code",
   "execution_count": 10,
   "id": "0320d4e5-214d-4701-90e0-145861716636",
   "metadata": {},
   "outputs": [
    {
     "ename": "AttributeError",
     "evalue": "'tuple' object has no attribute 'counter'",
     "output_type": "error",
     "traceback": [
      "\u001b[1;31m---------------------------------------------------------------------------\u001b[0m",
      "\u001b[1;31mAttributeError\u001b[0m                            Traceback (most recent call last)",
      "Cell \u001b[1;32mIn[10], line 1\u001b[0m\n\u001b[1;32m----> 1\u001b[0m \u001b[43mc\u001b[49m\u001b[38;5;241;43m.\u001b[39;49m\u001b[43mcounter\u001b[49m(\u001b[38;5;241m1\u001b[39m)\n",
      "\u001b[1;31mAttributeError\u001b[0m: 'tuple' object has no attribute 'counter'"
     ]
    }
   ],
   "source": [
    "c.counter(1)"
   ]
  },
  {
   "cell_type": "code",
   "execution_count": 11,
   "id": "af3a52d6-ac6a-4dfa-bc65-97a4a684f781",
   "metadata": {},
   "outputs": [
    {
     "name": "stdout",
     "output_type": "stream",
     "text": [
      "Need to create schema\n"
     ]
    }
   ],
   "source": [
    "import os\n",
    "import sqlite3\n",
    "\n",
    "db_filename = 'todo.db'\n",
    "\n",
    "db_is_new = not os.path.exists(db_filename)\n",
    "\n",
    "conn = sqlite3.connect(db_filename)\n",
    "\n",
    "if db_is_new:\n",
    "    print('Need to create schema')\n",
    "else:\n",
    "    print('Database exists, assume schema does, too.')\n",
    "\n",
    "conn.close()"
   ]
  },
  {
   "cell_type": "code",
   "execution_count": 12,
   "id": "9ff58d7f-aa23-4558-a657-e724eb75a2bd",
   "metadata": {},
   "outputs": [
    {
     "name": "stdout",
     "output_type": "stream",
     "text": [
      "     July 2017\n",
      "Su Mo Tu We Th Fr Sa\n",
      "                   1\n",
      " 2  3  4  5  6  7  8\n",
      " 9 10 11 12 13 14 15\n",
      "16 17 18 19 20 21 22\n",
      "23 24 25 26 27 28 29\n",
      "30 31\n"
     ]
    }
   ],
   "source": [
    "import calendar\n",
    "\n",
    "c = calendar.TextCalendar(calendar.SUNDAY)\n",
    "c.prmonth(2017, 7)"
   ]
  },
  {
   "cell_type": "code",
   "execution_count": 13,
   "id": "5a903193-91c8-4841-bda5-642dd586f82c",
   "metadata": {},
   "outputs": [
    {
     "name": "stdout",
     "output_type": "stream",
     "text": [
      "len(cal_data)      : 4\n",
      "len(top_months)    : 3\n",
      "len(first_month)   : 5\n",
      "first_month:\n",
      "[[(1, 6), (2, 0), (3, 1), (4, 2), (5, 3), (6, 4), (7, 5)],\n",
      " [(8, 6), (9, 0), (10, 1), (11, 2), (12, 3), (13, 4), (14, 5)],\n",
      " [(15, 6), (16, 0), (17, 1), (18, 2), (19, 3), (20, 4), (21, 5)],\n",
      " [(22, 6), (23, 0), (24, 1), (25, 2), (26, 3), (27, 4), (28, 5)],\n",
      " [(29, 6), (30, 0), (31, 1), (0, 2), (0, 3), (0, 4), (0, 5)]]\n"
     ]
    }
   ],
   "source": [
    "import calendar\n",
    "import pprint\n",
    "\n",
    "cal = calendar.Calendar(calendar.SUNDAY)\n",
    "\n",
    "cal_data = cal.yeardays2calendar(2017, 3)\n",
    "print('len(cal_data)      :', len(cal_data))\n",
    "\n",
    "top_months = cal_data[0]\n",
    "print('len(top_months)    :', len(top_months))\n",
    "\n",
    "first_month = top_months[0]\n",
    "print('len(first_month)   :', len(first_month))\n",
    "\n",
    "print('first_month:')\n",
    "pprint.pprint(first_month, width=65)"
   ]
  },
  {
   "cell_type": "code",
   "execution_count": 14,
   "id": "022292dd-9b6d-4779-96e9-3959daf768f7",
   "metadata": {},
   "outputs": [
    {
     "name": "stdout",
     "output_type": "stream",
     "text": [
      "                              2017\n",
      "\n",
      "      January               February               March\n",
      "Su Mo Tu We Th Fr Sa  Su Mo Tu We Th Fr Sa  Su Mo Tu We Th Fr Sa\n",
      " 1  2  3  4  5  6  7            1  2  3  4            1  2  3  4\n",
      " 8  9 10 11 12 13 14   5  6  7  8  9 10 11   5  6  7  8  9 10 11\n",
      "15 16 17 18 19 20 21  12 13 14 15 16 17 18  12 13 14 15 16 17 18\n",
      "22 23 24 25 26 27 28  19 20 21 22 23 24 25  19 20 21 22 23 24 25\n",
      "29 30 31              26 27 28              26 27 28 29 30 31\n",
      "\n",
      "       April                  May                   June\n",
      "Su Mo Tu We Th Fr Sa  Su Mo Tu We Th Fr Sa  Su Mo Tu We Th Fr Sa\n",
      "                   1      1  2  3  4  5  6               1  2  3\n",
      " 2  3  4  5  6  7  8   7  8  9 10 11 12 13   4  5  6  7  8  9 10\n",
      " 9 10 11 12 13 14 15  14 15 16 17 18 19 20  11 12 13 14 15 16 17\n",
      "16 17 18 19 20 21 22  21 22 23 24 25 26 27  18 19 20 21 22 23 24\n",
      "23 24 25 26 27 28 29  28 29 30 31           25 26 27 28 29 30\n",
      "30\n",
      "\n",
      "        July                 August              September\n",
      "Su Mo Tu We Th Fr Sa  Su Mo Tu We Th Fr Sa  Su Mo Tu We Th Fr Sa\n",
      "                   1         1  2  3  4  5                  1  2\n",
      " 2  3  4  5  6  7  8   6  7  8  9 10 11 12   3  4  5  6  7  8  9\n",
      " 9 10 11 12 13 14 15  13 14 15 16 17 18 19  10 11 12 13 14 15 16\n",
      "16 17 18 19 20 21 22  20 21 22 23 24 25 26  17 18 19 20 21 22 23\n",
      "23 24 25 26 27 28 29  27 28 29 30 31        24 25 26 27 28 29 30\n",
      "30 31\n",
      "\n",
      "      October               November              December\n",
      "Su Mo Tu We Th Fr Sa  Su Mo Tu We Th Fr Sa  Su Mo Tu We Th Fr Sa\n",
      " 1  2  3  4  5  6  7            1  2  3  4                  1  2\n",
      " 8  9 10 11 12 13 14   5  6  7  8  9 10 11   3  4  5  6  7  8  9\n",
      "15 16 17 18 19 20 21  12 13 14 15 16 17 18  10 11 12 13 14 15 16\n",
      "22 23 24 25 26 27 28  19 20 21 22 23 24 25  17 18 19 20 21 22 23\n",
      "29 30 31              26 27 28 29 30        24 25 26 27 28 29 30\n",
      "                                            31\n",
      "\n"
     ]
    }
   ],
   "source": [
    "import calendar\n",
    "\n",
    "cal = calendar.TextCalendar(calendar.SUNDAY)\n",
    "print(cal.formatyear(2017, 2, 1, 1, 3))"
   ]
  },
  {
   "cell_type": "code",
   "execution_count": 15,
   "id": "d11b6c3d-46e3-40b3-9e38-323cd24dc645",
   "metadata": {},
   "outputs": [
    {
     "ename": "ValueError",
     "evalue": "invalid literal for int() with base 10: '-f'",
     "output_type": "error",
     "traceback": [
      "\u001b[1;31m---------------------------------------------------------------------------\u001b[0m",
      "\u001b[1;31mValueError\u001b[0m                                Traceback (most recent call last)",
      "Cell \u001b[1;32mIn[15], line 4\u001b[0m\n\u001b[0;32m      1\u001b[0m \u001b[38;5;28;01mimport\u001b[39;00m \u001b[38;5;21;01mcalendar\u001b[39;00m\n\u001b[0;32m      2\u001b[0m \u001b[38;5;28;01mimport\u001b[39;00m \u001b[38;5;21;01msys\u001b[39;00m\n\u001b[1;32m----> 4\u001b[0m year \u001b[38;5;241m=\u001b[39m \u001b[38;5;28;43mint\u001b[39;49m\u001b[43m(\u001b[49m\u001b[43msys\u001b[49m\u001b[38;5;241;43m.\u001b[39;49m\u001b[43margv\u001b[49m\u001b[43m[\u001b[49m\u001b[38;5;241;43m1\u001b[39;49m\u001b[43m]\u001b[49m\u001b[43m)\u001b[49m\n\u001b[0;32m      6\u001b[0m \u001b[38;5;66;03m# Show every month\u001b[39;00m\n\u001b[0;32m      7\u001b[0m \u001b[38;5;28;01mfor\u001b[39;00m month \u001b[38;5;129;01min\u001b[39;00m \u001b[38;5;28mrange\u001b[39m(\u001b[38;5;241m1\u001b[39m, \u001b[38;5;241m13\u001b[39m):\n\u001b[0;32m      8\u001b[0m \n\u001b[0;32m      9\u001b[0m     \u001b[38;5;66;03m# Compute the dates for each week that overlaps the month\u001b[39;00m\n",
      "\u001b[1;31mValueError\u001b[0m: invalid literal for int() with base 10: '-f'"
     ]
    }
   ],
   "source": [
    "import calendar\n",
    "import sys\n",
    "\n",
    "year = int(sys.argv[1])\n",
    "\n",
    "# Show every month\n",
    "for month in range(1, 13):\n",
    "\n",
    "    # Compute the dates for each week that overlaps the month\n",
    "    c = calendar.monthcalendar(year, month)\n",
    "    first_week = c[0]\n",
    "    second_week = c[1]\n",
    "    third_week = c[2]\n",
    "\n",
    "    # If there is a Thursday in the first week,\n",
    "    # the second Thursday is # in the second week.\n",
    "    # Otherwise, the second Thursday must be in\n",
    "    # the third week.\n",
    "    if first_week[calendar.THURSDAY]:\n",
    "        meeting_date = second_week[calendar.THURSDAY]\n",
    "    else:\n",
    "        meeting_date = third_week[calendar.THURSDAY]\n",
    "\n",
    "    print('{:>3}: {:>2}'.format(calendar.month_abbr[month],\n",
    "                                meeting_date))"
   ]
  },
  {
   "cell_type": "code",
   "execution_count": null,
   "id": "76898758-e185-485f-b8af-8442bd15cb86",
   "metadata": {},
   "outputs": [],
   "source": []
  },
  {
   "cell_type": "code",
   "execution_count": null,
   "id": "229c5321-d1fd-4b5f-a0fc-f14aa0140639",
   "metadata": {},
   "outputs": [],
   "source": []
  }
 ],
 "metadata": {
  "kernelspec": {
   "display_name": "Python 3 (ipykernel)",
   "language": "python",
   "name": "python3"
  },
  "language_info": {
   "codemirror_mode": {
    "name": "ipython",
    "version": 3
   },
   "file_extension": ".py",
   "mimetype": "text/x-python",
   "name": "python",
   "nbconvert_exporter": "python",
   "pygments_lexer": "ipython3",
   "version": "3.11.0"
  }
 },
 "nbformat": 4,
 "nbformat_minor": 5
}
